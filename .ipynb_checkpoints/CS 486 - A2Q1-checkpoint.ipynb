{
 "cells": [
  {
   "cell_type": "code",
   "execution_count": 112,
   "metadata": {},
   "outputs": [],
   "source": [
    "import pandas as pd\n",
    "import collections\n",
    "import math\n",
    "\n",
    "prev_information_content = 0\n",
    "\n",
    "# Initial Function: Read data\n",
    "def read_data(id):\n",
    "    data = pd.read_csv(id)\n",
    "    return data\n",
    "\n",
    "# Test:\n",
    "data = read_data(\"occupancy_A.csv\")\n",
    "data_size = int(data.shape[0])"
   ]
  },
  {
   "cell_type": "code",
   "execution_count": 113,
   "metadata": {
    "scrolled": false
   },
   "outputs": [
    {
     "ename": "SyntaxError",
     "evalue": "invalid syntax (<ipython-input-113-bdcbe6d3fedd>, line 23)",
     "output_type": "error",
     "traceback": [
      "\u001b[1;36m  File \u001b[1;32m\"<ipython-input-113-bdcbe6d3fedd>\"\u001b[1;36m, line \u001b[1;32m23\u001b[0m\n\u001b[1;33m    for i in columns if i != 'Occupancy':\u001b[0m\n\u001b[1;37m                                        ^\u001b[0m\n\u001b[1;31mSyntaxError\u001b[0m\u001b[1;31m:\u001b[0m invalid syntax\n"
     ]
    }
   ],
   "source": [
    "# Algo: Choose the most important feature\n",
    "# Input: Counter\n",
    "def entropy(dist):\n",
    "    value = 0\n",
    "    total = dist[0] + dist[1]\n",
    "    if len(dist) == 1:\n",
    "        return 0\n",
    "    for index in dist:\n",
    "        prob = dist[index] / total\n",
    "        value += prob * math.log2(prob)\n",
    "    return value * -1\n",
    "\n",
    "\n",
    "def choose_feature_split(data):\n",
    "    columns = list(data)\n",
    "    columns.remove(\"Occupancy\")\n",
    "    print(columns)\n",
    "    \n",
    "    feature = None\n",
    "    split_point = 0\n",
    "    max_diff_entropy = 0\n",
    "    prev_entropy = entropy(collections.Counter(data['Occupancy']))\n",
    "\n",
    "    for i in columns:\n",
    "        print(\"Current working on \" + i)\n",
    "        \n",
    "        # Sort by current feature\n",
    "        sorted_data = data.sort_values(by=i, ascending=True)\n",
    "        sorted_data = sorted_data.reset_index(drop=True)\n",
    "        \n",
    "        # Prev\n",
    "        prev = sorted_data[i].iloc[0]\n",
    "\n",
    "        # Calculate Information Gain\n",
    "        for index, j in sorted_data[i].iteritems():\n",
    "            if j == prev: continue\n",
    "            if j != prev:\n",
    "                \n",
    "                # X changed to Y\n",
    "                # 1. Calculate (X+Y)/2 if not exist\n",
    "\n",
    "                midpoint = (prev + j) / 2\n",
    "\n",
    "                if midpoint in sorted_data[i].tolist():\n",
    "                    continue\n",
    "                \n",
    "                \n",
    "                # 2. Grab all Lx Ly\n",
    "                X = sorted_data[sorted_data[i] == prev]\n",
    "                X = X[[i, \"Occupancy\"]]\n",
    "                Y = sorted_data[sorted_data[i] == j]\n",
    "                Y = Y[[i, \"Occupancy\"]]\n",
    "                \n",
    "                X_str = ''.join(str(e) for e in X[\"Occupancy\"].unique())\n",
    "                Y_str = ''.join(str(e) for e in Y[\"Occupancy\"].unique())\n",
    "                \n",
    "                # 3. If there exists one different element:\n",
    "                \n",
    "                if X_str != Y_str:\n",
    "                    \n",
    "                    # Consider as potential split_point\n",
    "                    # Calculate entropy\n",
    "                    \n",
    "                    Upper = collections.Counter(sorted_data[sorted_data[i] < midpoint]['Occupancy'])\n",
    "                    Lower = collections.Counter(sorted_data[sorted_data[i] > midpoint]['Occupancy'])\n",
    "                    \n",
    "                    curr_entropy = (Upper[0] + Upper[1]) / data_size * entropy(Upper) + \\\n",
    "                                    (Lower[0] + Lower[1]) / data_size * entropy(Lower)\n",
    "                    \n",
    "                    if (prev_entropy - curr_entropy) > max_diff_entropy:\n",
    "                        max_diff_entropy = prev_entropy - curr_entropy\n",
    "                        split_point = midpoint\n",
    "                        feature = i\n",
    "                prev = j\n",
    "                \n",
    "                \n",
    "    return [feature, split_point, max_diff_entropy]"
   ]
  },
  {
   "cell_type": "code",
   "execution_count": null,
   "metadata": {},
   "outputs": [],
   "source": [
    "print(choose_feature_split(data))"
   ]
  },
  {
   "cell_type": "code",
   "execution_count": null,
   "metadata": {},
   "outputs": [],
   "source": [
    "light = data.sort_values(by='Light', ascending=True)\n",
    "light = light.reset_index(drop=True)\n",
    "\n",
    "e = entropy(collections.Counter(data['Occupancy']))\n",
    "\n",
    "Upper = collections.Counter(light[light[\"Light\"] < 375]['Occupancy'])\n",
    "Lower = collections.Counter(light[light[\"Light\"] > 375]['Occupancy'])\n",
    "                    \n",
    "curr_entropy = (Upper[0] + Upper[1]) / data_size * entropy(Upper) + \\\n",
    "                (Lower[0] + Lower[1]) / data_size * entropy(Lower)\n",
    "\n",
    "\n",
    "print(curr_entropy)\n",
    "\n",
    "print(e)\n",
    "\n",
    "print(e - curr_entropy)"
   ]
  },
  {
   "cell_type": "code",
   "execution_count": null,
   "metadata": {},
   "outputs": [],
   "source": []
  }
 ],
 "metadata": {
  "kernelspec": {
   "display_name": "Python 3",
   "language": "python",
   "name": "python3"
  },
  "language_info": {
   "codemirror_mode": {
    "name": "ipython",
    "version": 3
   },
   "file_extension": ".py",
   "mimetype": "text/x-python",
   "name": "python",
   "nbconvert_exporter": "python",
   "pygments_lexer": "ipython3",
   "version": "3.7.3"
  }
 },
 "nbformat": 4,
 "nbformat_minor": 2
}
